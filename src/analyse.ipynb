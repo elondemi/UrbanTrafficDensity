{
 "cells": [
  {
   "cell_type": "code",
   "execution_count": 1,
   "id": "9f063e8a-96f8-4d75-8898-1de4926de9be",
   "metadata": {},
   "outputs": [],
   "source": [
    "import pandas as pd\n",
    "import numpy as np\n",
    "import seaborn as sns\n",
    "import matplotlib.pyplot as plt"
   ]
  },
  {
   "cell_type": "code",
   "execution_count": 2,
   "id": "47eb6959-9f93-41dd-aa91-bcecc119606e",
   "metadata": {},
   "outputs": [],
   "source": [
    "dataset = pd.read_csv('futuristic_city_traffic.csv')"
   ]
  },
  {
   "cell_type": "code",
   "execution_count": 3,
   "id": "af11eb99-53fd-4f3b-997f-bfd2d9524ec8",
   "metadata": {},
   "outputs": [
    {
     "data": {
      "text/html": [
       "<div>\n",
       "<style scoped>\n",
       "    .dataframe tbody tr th:only-of-type {\n",
       "        vertical-align: middle;\n",
       "    }\n",
       "\n",
       "    .dataframe tbody tr th {\n",
       "        vertical-align: top;\n",
       "    }\n",
       "\n",
       "    .dataframe thead th {\n",
       "        text-align: right;\n",
       "    }\n",
       "</style>\n",
       "<table border=\"1\" class=\"dataframe\">\n",
       "  <thead>\n",
       "    <tr style=\"text-align: right;\">\n",
       "      <th></th>\n",
       "      <th>City</th>\n",
       "      <th>Vehicle Type</th>\n",
       "      <th>Weather</th>\n",
       "      <th>Economic Condition</th>\n",
       "      <th>Day Of Week</th>\n",
       "      <th>Hour Of Day</th>\n",
       "      <th>Speed</th>\n",
       "      <th>Is Peak Hour</th>\n",
       "      <th>Random Event Occurred</th>\n",
       "      <th>Energy Consumption</th>\n",
       "      <th>Traffic Density</th>\n",
       "    </tr>\n",
       "  </thead>\n",
       "  <tbody>\n",
       "    <tr>\n",
       "      <th>0</th>\n",
       "      <td>SolarisVille</td>\n",
       "      <td>Drone</td>\n",
       "      <td>Snowy</td>\n",
       "      <td>Stable</td>\n",
       "      <td>Sunday</td>\n",
       "      <td>20</td>\n",
       "      <td>29.4268</td>\n",
       "      <td>0</td>\n",
       "      <td>0</td>\n",
       "      <td>14.7134</td>\n",
       "      <td>0.5241</td>\n",
       "    </tr>\n",
       "    <tr>\n",
       "      <th>1</th>\n",
       "      <td>AquaCity</td>\n",
       "      <td>Flying Car</td>\n",
       "      <td>Solar Flare</td>\n",
       "      <td>Recession</td>\n",
       "      <td>Wednesday</td>\n",
       "      <td>2</td>\n",
       "      <td>118.8000</td>\n",
       "      <td>0</td>\n",
       "      <td>0</td>\n",
       "      <td>143.5682</td>\n",
       "      <td>0.3208</td>\n",
       "    </tr>\n",
       "    <tr>\n",
       "      <th>2</th>\n",
       "      <td>Neuroburg</td>\n",
       "      <td>Autonomous Vehicle</td>\n",
       "      <td>Solar Flare</td>\n",
       "      <td>Recession</td>\n",
       "      <td>Wednesday</td>\n",
       "      <td>16</td>\n",
       "      <td>100.3904</td>\n",
       "      <td>0</td>\n",
       "      <td>0</td>\n",
       "      <td>91.2640</td>\n",
       "      <td>0.0415</td>\n",
       "    </tr>\n",
       "    <tr>\n",
       "      <th>3</th>\n",
       "      <td>Ecoopolis</td>\n",
       "      <td>Drone</td>\n",
       "      <td>Clear</td>\n",
       "      <td>Booming</td>\n",
       "      <td>Thursday</td>\n",
       "      <td>8</td>\n",
       "      <td>76.8000</td>\n",
       "      <td>1</td>\n",
       "      <td>0</td>\n",
       "      <td>46.0753</td>\n",
       "      <td>0.1811</td>\n",
       "    </tr>\n",
       "    <tr>\n",
       "      <th>4</th>\n",
       "      <td>AquaCity</td>\n",
       "      <td>Autonomous Vehicle</td>\n",
       "      <td>Solar Flare</td>\n",
       "      <td>Stable</td>\n",
       "      <td>Saturday</td>\n",
       "      <td>16</td>\n",
       "      <td>45.2176</td>\n",
       "      <td>0</td>\n",
       "      <td>0</td>\n",
       "      <td>40.1934</td>\n",
       "      <td>0.4544</td>\n",
       "    </tr>\n",
       "  </tbody>\n",
       "</table>\n",
       "</div>"
      ],
      "text/plain": [
       "           City        Vehicle Type      Weather Economic Condition  \\\n",
       "0  SolarisVille               Drone        Snowy             Stable   \n",
       "1      AquaCity          Flying Car  Solar Flare          Recession   \n",
       "2     Neuroburg  Autonomous Vehicle  Solar Flare          Recession   \n",
       "3     Ecoopolis               Drone        Clear            Booming   \n",
       "4      AquaCity  Autonomous Vehicle  Solar Flare             Stable   \n",
       "\n",
       "  Day Of Week  Hour Of Day     Speed  Is Peak Hour  Random Event Occurred  \\\n",
       "0      Sunday           20   29.4268             0                      0   \n",
       "1   Wednesday            2  118.8000             0                      0   \n",
       "2   Wednesday           16  100.3904             0                      0   \n",
       "3    Thursday            8   76.8000             1                      0   \n",
       "4    Saturday           16   45.2176             0                      0   \n",
       "\n",
       "   Energy Consumption  Traffic Density  \n",
       "0             14.7134           0.5241  \n",
       "1            143.5682           0.3208  \n",
       "2             91.2640           0.0415  \n",
       "3             46.0753           0.1811  \n",
       "4             40.1934           0.4544  "
      ]
     },
     "execution_count": 3,
     "metadata": {},
     "output_type": "execute_result"
    }
   ],
   "source": [
    "dataset.head()"
   ]
  },
  {
   "cell_type": "code",
   "execution_count": 4,
   "id": "e7fbac79-32c9-4601-a69f-db7e0afb8a61",
   "metadata": {},
   "outputs": [
    {
     "name": "stdout",
     "output_type": "stream",
     "text": [
      "<class 'pandas.core.frame.DataFrame'>\n",
      "RangeIndex: 1048575 entries, 0 to 1048574\n",
      "Data columns (total 11 columns):\n",
      " #   Column                 Non-Null Count    Dtype  \n",
      "---  ------                 --------------    -----  \n",
      " 0   City                   1048575 non-null  object \n",
      " 1   Vehicle Type           1048575 non-null  object \n",
      " 2   Weather                1048575 non-null  object \n",
      " 3   Economic Condition     1048575 non-null  object \n",
      " 4   Day Of Week            1048575 non-null  object \n",
      " 5   Hour Of Day            1048575 non-null  int64  \n",
      " 6   Speed                  1048575 non-null  float64\n",
      " 7   Is Peak Hour           1048575 non-null  int64  \n",
      " 8   Random Event Occurred  1048575 non-null  int64  \n",
      " 9   Energy Consumption     1048575 non-null  float64\n",
      " 10  Traffic Density        1048575 non-null  float64\n",
      "dtypes: float64(3), int64(3), object(5)\n",
      "memory usage: 88.0+ MB\n"
     ]
    }
   ],
   "source": [
    "dataset.info()"
   ]
  },
  {
   "cell_type": "code",
   "execution_count": 6,
   "id": "5522c121-7d5e-4032-a7e6-763114f95ca6",
   "metadata": {},
   "outputs": [
    {
     "data": {
      "text/html": [
       "<div>\n",
       "<style scoped>\n",
       "    .dataframe tbody tr th:only-of-type {\n",
       "        vertical-align: middle;\n",
       "    }\n",
       "\n",
       "    .dataframe tbody tr th {\n",
       "        vertical-align: top;\n",
       "    }\n",
       "\n",
       "    .dataframe thead th {\n",
       "        text-align: right;\n",
       "    }\n",
       "</style>\n",
       "<table border=\"1\" class=\"dataframe\">\n",
       "  <thead>\n",
       "    <tr style=\"text-align: right;\">\n",
       "      <th></th>\n",
       "      <th>Hour Of Day</th>\n",
       "      <th>Speed</th>\n",
       "      <th>Is Peak Hour</th>\n",
       "      <th>Random Event Occurred</th>\n",
       "      <th>Energy Consumption</th>\n",
       "      <th>Traffic Density</th>\n",
       "    </tr>\n",
       "  </thead>\n",
       "  <tbody>\n",
       "    <tr>\n",
       "      <th>count</th>\n",
       "      <td>1.048575e+06</td>\n",
       "      <td>1.048575e+06</td>\n",
       "      <td>1.048575e+06</td>\n",
       "      <td>1.048575e+06</td>\n",
       "      <td>1.048575e+06</td>\n",
       "      <td>1.048575e+06</td>\n",
       "    </tr>\n",
       "    <tr>\n",
       "      <th>mean</th>\n",
       "      <td>1.150741e+01</td>\n",
       "      <td>5.993168e+01</td>\n",
       "      <td>1.547329e-01</td>\n",
       "      <td>4.999356e-02</td>\n",
       "      <td>4.945187e+01</td>\n",
       "      <td>2.771250e-01</td>\n",
       "    </tr>\n",
       "    <tr>\n",
       "      <th>std</th>\n",
       "      <td>6.918308e+00</td>\n",
       "      <td>2.663434e+01</td>\n",
       "      <td>3.616500e-01</td>\n",
       "      <td>2.179318e-01</td>\n",
       "      <td>2.527329e+01</td>\n",
       "      <td>2.191737e-01</td>\n",
       "    </tr>\n",
       "    <tr>\n",
       "      <th>min</th>\n",
       "      <td>0.000000e+00</td>\n",
       "      <td>6.693400e+00</td>\n",
       "      <td>0.000000e+00</td>\n",
       "      <td>0.000000e+00</td>\n",
       "      <td>4.929600e+00</td>\n",
       "      <td>5.900000e-03</td>\n",
       "    </tr>\n",
       "    <tr>\n",
       "      <th>25%</th>\n",
       "      <td>6.000000e+00</td>\n",
       "      <td>3.751590e+01</td>\n",
       "      <td>0.000000e+00</td>\n",
       "      <td>0.000000e+00</td>\n",
       "      <td>2.925070e+01</td>\n",
       "      <td>1.059000e-01</td>\n",
       "    </tr>\n",
       "    <tr>\n",
       "      <th>50%</th>\n",
       "      <td>1.200000e+01</td>\n",
       "      <td>5.845500e+01</td>\n",
       "      <td>0.000000e+00</td>\n",
       "      <td>0.000000e+00</td>\n",
       "      <td>4.576990e+01</td>\n",
       "      <td>2.186000e-01</td>\n",
       "    </tr>\n",
       "    <tr>\n",
       "      <th>75%</th>\n",
       "      <td>1.700000e+01</td>\n",
       "      <td>8.053695e+01</td>\n",
       "      <td>0.000000e+00</td>\n",
       "      <td>0.000000e+00</td>\n",
       "      <td>6.589690e+01</td>\n",
       "      <td>3.961000e-01</td>\n",
       "    </tr>\n",
       "    <tr>\n",
       "      <th>max</th>\n",
       "      <td>2.300000e+01</td>\n",
       "      <td>1.630886e+02</td>\n",
       "      <td>1.000000e+00</td>\n",
       "      <td>1.000000e+00</td>\n",
       "      <td>1.899489e+02</td>\n",
       "      <td>3.377600e+00</td>\n",
       "    </tr>\n",
       "  </tbody>\n",
       "</table>\n",
       "</div>"
      ],
      "text/plain": [
       "        Hour Of Day         Speed  Is Peak Hour  Random Event Occurred  \\\n",
       "count  1.048575e+06  1.048575e+06  1.048575e+06           1.048575e+06   \n",
       "mean   1.150741e+01  5.993168e+01  1.547329e-01           4.999356e-02   \n",
       "std    6.918308e+00  2.663434e+01  3.616500e-01           2.179318e-01   \n",
       "min    0.000000e+00  6.693400e+00  0.000000e+00           0.000000e+00   \n",
       "25%    6.000000e+00  3.751590e+01  0.000000e+00           0.000000e+00   \n",
       "50%    1.200000e+01  5.845500e+01  0.000000e+00           0.000000e+00   \n",
       "75%    1.700000e+01  8.053695e+01  0.000000e+00           0.000000e+00   \n",
       "max    2.300000e+01  1.630886e+02  1.000000e+00           1.000000e+00   \n",
       "\n",
       "       Energy Consumption  Traffic Density  \n",
       "count        1.048575e+06     1.048575e+06  \n",
       "mean         4.945187e+01     2.771250e-01  \n",
       "std          2.527329e+01     2.191737e-01  \n",
       "min          4.929600e+00     5.900000e-03  \n",
       "25%          2.925070e+01     1.059000e-01  \n",
       "50%          4.576990e+01     2.186000e-01  \n",
       "75%          6.589690e+01     3.961000e-01  \n",
       "max          1.899489e+02     3.377600e+00  "
      ]
     },
     "execution_count": 6,
     "metadata": {},
     "output_type": "execute_result"
    }
   ],
   "source": [
    "dataset.describe()"
   ]
  },
  {
   "cell_type": "markdown",
   "id": "56e5e922-5bf4-4340-8b61-e95ddea8da0b",
   "metadata": {},
   "source": [
    "# Density of traffic based on the city"
   ]
  },
  {
   "cell_type": "code",
   "execution_count": 23,
   "id": "30941220-e0a5-4dec-bd9f-6be85f8b3b64",
   "metadata": {},
   "outputs": [
    {
     "data": {
      "text/html": [
       "<div>\n",
       "<style scoped>\n",
       "    .dataframe tbody tr th:only-of-type {\n",
       "        vertical-align: middle;\n",
       "    }\n",
       "\n",
       "    .dataframe tbody tr th {\n",
       "        vertical-align: top;\n",
       "    }\n",
       "\n",
       "    .dataframe thead th {\n",
       "        text-align: right;\n",
       "    }\n",
       "</style>\n",
       "<table border=\"1\" class=\"dataframe\">\n",
       "  <thead>\n",
       "    <tr style=\"text-align: right;\">\n",
       "      <th></th>\n",
       "      <th>City</th>\n",
       "      <th>Traffic Density</th>\n",
       "    </tr>\n",
       "  </thead>\n",
       "  <tbody>\n",
       "    <tr>\n",
       "      <th>0</th>\n",
       "      <td>AquaCity</td>\n",
       "      <td>0.447362</td>\n",
       "    </tr>\n",
       "    <tr>\n",
       "      <th>1</th>\n",
       "      <td>Ecoopolis</td>\n",
       "      <td>0.192730</td>\n",
       "    </tr>\n",
       "    <tr>\n",
       "      <th>2</th>\n",
       "      <td>MetropolisX</td>\n",
       "      <td>0.462254</td>\n",
       "    </tr>\n",
       "    <tr>\n",
       "      <th>3</th>\n",
       "      <td>Neuroburg</td>\n",
       "      <td>0.074394</td>\n",
       "    </tr>\n",
       "    <tr>\n",
       "      <th>4</th>\n",
       "      <td>SolarisVille</td>\n",
       "      <td>0.290536</td>\n",
       "    </tr>\n",
       "    <tr>\n",
       "      <th>5</th>\n",
       "      <td>TechHaven</td>\n",
       "      <td>0.195914</td>\n",
       "    </tr>\n",
       "  </tbody>\n",
       "</table>\n",
       "</div>"
      ],
      "text/plain": [
       "           City  Traffic Density\n",
       "0      AquaCity         0.447362\n",
       "1     Ecoopolis         0.192730\n",
       "2   MetropolisX         0.462254\n",
       "3     Neuroburg         0.074394\n",
       "4  SolarisVille         0.290536\n",
       "5     TechHaven         0.195914"
      ]
     },
     "execution_count": 23,
     "metadata": {},
     "output_type": "execute_result"
    }
   ],
   "source": [
    "traffic_city = dataset.groupby('City')['Traffic Density'].mean().reset_index()\n",
    "traffic_city"
   ]
  },
  {
   "cell_type": "code",
   "execution_count": 44,
   "id": "e8db796a-9819-4446-b601-e0eef8660c64",
   "metadata": {},
   "outputs": [
    {
     "data": {
      "image/png": "[encoded data removed]",
      "text/plain": [
       "<Figure size 640x480 with 1 Axes>"
      ]
     },
     "metadata": {},
     "output_type": "display_data"
    }
   ],
   "source": [
    "fig = plt.figure(dpi=100)\n",
    "plt.bar(data=traffic_city,x=traffic_city['City'],height=traffic_city['Traffic Density'])\n",
    "plt.title(label= 'Average traffic density based on city')\n",
    "plt.xticks(rotation=90)\n",
    "plt.show()"
   ]
  },
  {
   "cell_type": "markdown",
   "id": "2aac67bb-6b77-4cbc-af84-15f6d26f729c",
   "metadata": {},
   "source": [
    "# Density of traffic based on the city\n"
   ]
  },
  {
   "cell_type": "code",
   "execution_count": 41,
   "id": "43d7a40d-bbf3-4969-bc2d-169906e20667",
   "metadata": {},
   "outputs": [
    {
     "data": {
      "text/html": [
       "<div>\n",
       "<style scoped>\n",
       "    .dataframe tbody tr th:only-of-type {\n",
       "        vertical-align: middle;\n",
       "    }\n",
       "\n",
       "    .dataframe tbody tr th {\n",
       "        vertical-align: top;\n",
       "    }\n",
       "\n",
       "    .dataframe thead th {\n",
       "        text-align: right;\n",
       "    }\n",
       "</style>\n",
       "<table border=\"1\" class=\"dataframe\">\n",
       "  <thead>\n",
       "    <tr style=\"text-align: right;\">\n",
       "      <th></th>\n",
       "      <th>Weather</th>\n",
       "      <th>Traffic Density</th>\n",
       "    </tr>\n",
       "  </thead>\n",
       "  <tbody>\n",
       "    <tr>\n",
       "      <th>0</th>\n",
       "      <td>Clear</td>\n",
       "      <td>0.296128</td>\n",
       "    </tr>\n",
       "    <tr>\n",
       "      <th>1</th>\n",
       "      <td>Electromagnetic Storm</td>\n",
       "      <td>0.290848</td>\n",
       "    </tr>\n",
       "    <tr>\n",
       "      <th>2</th>\n",
       "      <td>Rainy</td>\n",
       "      <td>0.267787</td>\n",
       "    </tr>\n",
       "    <tr>\n",
       "      <th>3</th>\n",
       "      <td>Snowy</td>\n",
       "      <td>0.268023</td>\n",
       "    </tr>\n",
       "    <tr>\n",
       "      <th>4</th>\n",
       "      <td>Solar Flare</td>\n",
       "      <td>0.262880</td>\n",
       "    </tr>\n",
       "  </tbody>\n",
       "</table>\n",
       "</div>"
      ],
      "text/plain": [
       "                 Weather  Traffic Density\n",
       "0                  Clear         0.296128\n",
       "1  Electromagnetic Storm         0.290848\n",
       "2                  Rainy         0.267787\n",
       "3                  Snowy         0.268023\n",
       "4            Solar Flare         0.262880"
      ]
     },
     "execution_count": 41,
     "metadata": {},
     "output_type": "execute_result"
    }
   ],
   "source": [
    "traffic_weather = dataset.groupby('Weather')['Traffic Density'].mean().reset_index()\n",
    "traffic_weather"
   ]
  },
  {
   "cell_type": "code",
   "execution_count": 43,
   "id": "d40e6183-17f6-4c7b-a809-6052cfd848e6",
   "metadata": {},
   "outputs": [
    {
     "data": {
      "image/png": "[encoded data removed]",
      "text/plain": [
       "<Figure size 512x384 with 1 Axes>"
      ]
     },
     "metadata": {},
     "output_type": "display_data"
    }
   ],
   "source": [
    "fig = plt.figure(dpi=80)\n",
    "plt.bar(data=traffic_weather,x=traffic_weather['Weather'],height=traffic_weather['Traffic Density'])\n",
    "plt.title(label= 'Average traffic density based on weather')\n",
    "plt.xticks(rotation=90)\n",
    "plt.show()"
   ]
  },
  {
   "cell_type": "markdown",
   "id": "60cbc5df-c572-4598-bb17-cfef933e734b",
   "metadata": {},
   "source": [
    "# Ammount of vehicle types from each category"
   ]
  },
  {
   "cell_type": "code",
   "execution_count": 50,
   "id": "45225be2-f826-4df0-8be6-60400b3dd412",
   "metadata": {},
   "outputs": [
    {
     "data": {
      "text/html": [
       "<div>\n",
       "<style scoped>\n",
       "    .dataframe tbody tr th:only-of-type {\n",
       "        vertical-align: middle;\n",
       "    }\n",
       "\n",
       "    .dataframe tbody tr th {\n",
       "        vertical-align: top;\n",
       "    }\n",
       "\n",
       "    .dataframe thead th {\n",
       "        text-align: right;\n",
       "    }\n",
       "</style>\n",
       "<table border=\"1\" class=\"dataframe\">\n",
       "  <thead>\n",
       "    <tr style=\"text-align: right;\">\n",
       "      <th></th>\n",
       "      <th>Vehicle Type</th>\n",
       "      <th>count</th>\n",
       "    </tr>\n",
       "  </thead>\n",
       "  <tbody>\n",
       "    <tr>\n",
       "      <th>0</th>\n",
       "      <td>Autonomous Vehicle</td>\n",
       "      <td>651424</td>\n",
       "    </tr>\n",
       "    <tr>\n",
       "      <th>1</th>\n",
       "      <td>Drone</td>\n",
       "      <td>262182</td>\n",
       "    </tr>\n",
       "    <tr>\n",
       "      <th>2</th>\n",
       "      <td>Flying Car</td>\n",
       "      <td>67701</td>\n",
       "    </tr>\n",
       "    <tr>\n",
       "      <th>3</th>\n",
       "      <td>Car</td>\n",
       "      <td>67268</td>\n",
       "    </tr>\n",
       "  </tbody>\n",
       "</table>\n",
       "</div>"
      ],
      "text/plain": [
       "         Vehicle Type   count\n",
       "0  Autonomous Vehicle  651424\n",
       "1               Drone  262182\n",
       "2          Flying Car   67701\n",
       "3                 Car   67268"
      ]
     },
     "execution_count": 50,
     "metadata": {},
     "output_type": "execute_result"
    }
   ],
   "source": [
    "cars = dataset['Vehicle Type'].value_counts().reset_index()\n",
    "cars"
   ]
  },
  {
   "cell_type": "code",
   "execution_count": 66,
   "id": "ab6f71cf-0297-4307-b137-fe74d025788e",
   "metadata": {},
   "outputs": [
    {
     "data": {
      "text/plain": [
       "<matplotlib.legend.Legend at 0x1b59fc8f910>"
      ]
     },
     "execution_count": 66,
     "metadata": {},
     "output_type": "execute_result"
    },
    {
     "data": {
      "image/png": "[encoded data removed]",
      "text/plain": [
       "<Figure size 960x720 with 1 Axes>"
      ]
     },
     "metadata": {},
     "output_type": "display_data"
    }
   ],
   "source": [
    "fig = plt.figure(dpi=150)\n",
    "labels = [x for x in cars['Vehicle Type']]\n",
    "plt.pie(labels = labels,x=cars['count'],autopct='%1.1f%%')\n",
    "plt.legend()"
   ]
  },
  {
   "cell_type": "markdown",
   "id": "f29364ad-2a80-453a-82b3-b16bdaab0c3f",
   "metadata": {},
   "source": [
    "# Does Traffic density increase of decrease energy consumption?"
   ]
  },
  {
   "cell_type": "code",
   "execution_count": 74,
   "id": "ec22f05d-4a4e-45c0-ae67-6145c0a2aa7b",
   "metadata": {},
   "outputs": [
    {
     "data": {
      "text/plain": [
       "0.01584834966727215"
      ]
     },
     "execution_count": 74,
     "metadata": {},
     "output_type": "execute_result"
    }
   ],
   "source": [
    "dataset['Energy Consumption'].corr(dataset['Traffic Density'])"
   ]
  },
  {
   "cell_type": "code",
   "execution_count": 79,
   "id": "b7d71f31-40f9-4cec-95f4-e403e8f4d315",
   "metadata": {},
   "outputs": [
    {
     "data": {
      "text/html": [
       "<div>\n",
       "<style scoped>\n",
       "    .dataframe tbody tr th:only-of-type {\n",
       "        vertical-align: middle;\n",
       "    }\n",
       "\n",
       "    .dataframe tbody tr th {\n",
       "        vertical-align: top;\n",
       "    }\n",
       "\n",
       "    .dataframe thead th {\n",
       "        text-align: right;\n",
       "    }\n",
       "</style>\n",
       "<table border=\"1\" class=\"dataframe\">\n",
       "  <thead>\n",
       "    <tr style=\"text-align: right;\">\n",
       "      <th></th>\n",
       "      <th>Energy Consumption</th>\n",
       "      <th>Traffic Density</th>\n",
       "    </tr>\n",
       "  </thead>\n",
       "  <tbody>\n",
       "    <tr>\n",
       "      <th>0</th>\n",
       "      <td>102.1249</td>\n",
       "      <td>3.3776</td>\n",
       "    </tr>\n",
       "    <tr>\n",
       "      <th>1</th>\n",
       "      <td>52.7132</td>\n",
       "      <td>3.0981</td>\n",
       "    </tr>\n",
       "    <tr>\n",
       "      <th>2</th>\n",
       "      <td>40.7681</td>\n",
       "      <td>2.7313</td>\n",
       "    </tr>\n",
       "    <tr>\n",
       "      <th>3</th>\n",
       "      <td>19.3050</td>\n",
       "      <td>2.5698</td>\n",
       "    </tr>\n",
       "    <tr>\n",
       "      <th>4</th>\n",
       "      <td>43.6543</td>\n",
       "      <td>2.5011</td>\n",
       "    </tr>\n",
       "    <tr>\n",
       "      <th>...</th>\n",
       "      <td>...</td>\n",
       "      <td>...</td>\n",
       "    </tr>\n",
       "    <tr>\n",
       "      <th>615103</th>\n",
       "      <td>98.1513</td>\n",
       "      <td>0.0066</td>\n",
       "    </tr>\n",
       "    <tr>\n",
       "      <th>615104</th>\n",
       "      <td>77.8290</td>\n",
       "      <td>0.0066</td>\n",
       "    </tr>\n",
       "    <tr>\n",
       "      <th>615105</th>\n",
       "      <td>54.1401</td>\n",
       "      <td>0.0066</td>\n",
       "    </tr>\n",
       "    <tr>\n",
       "      <th>615106</th>\n",
       "      <td>89.7701</td>\n",
       "      <td>0.0063</td>\n",
       "    </tr>\n",
       "    <tr>\n",
       "      <th>615107</th>\n",
       "      <td>61.9548</td>\n",
       "      <td>0.0060</td>\n",
       "    </tr>\n",
       "  </tbody>\n",
       "</table>\n",
       "<p>615108 rows × 2 columns</p>\n",
       "</div>"
      ],
      "text/plain": [
       "        Energy Consumption  Traffic Density\n",
       "0                 102.1249           3.3776\n",
       "1                  52.7132           3.0981\n",
       "2                  40.7681           2.7313\n",
       "3                  19.3050           2.5698\n",
       "4                  43.6543           2.5011\n",
       "...                    ...              ...\n",
       "615103             98.1513           0.0066\n",
       "615104             77.8290           0.0066\n",
       "615105             54.1401           0.0066\n",
       "615106             89.7701           0.0063\n",
       "615107             61.9548           0.0060\n",
       "\n",
       "[615108 rows x 2 columns]"
      ]
     },
     "execution_count": 79,
     "metadata": {},
     "output_type": "execute_result"
    }
   ],
   "source": [
    "energyconsumption_density= dataset.groupby('Energy Consumption')['Traffic Density'].mean().sort_values(ascending=False).reset_index()\n",
    "energyconsumption_density"
   ]
  },
  {
   "cell_type": "code",
   "execution_count": 80,
   "id": "29fa64de-dadc-4c59-a834-6fba8c63c548",
   "metadata": {},
   "outputs": [
    {
     "data": {
      "text/plain": [
       "<matplotlib.collections.PathCollection at 0x1b5a9f92230>"
      ]
     },
     "execution_count": 80,
     "metadata": {},
     "output_type": "execute_result"
    },
    {
     "data": {
      "image/png": "[encoded data removed]",
      "text/plain": [
       "<Figure size 640x480 with 1 Axes>"
      ]
     },
     "metadata": {},
     "output_type": "display_data"
    }
   ],
   "source": [
    "plt.scatter(data=energyconsumption_density,x='Energy Consumption',y='Traffic Density')"
   ]
  },
  {
   "cell_type": "markdown",
   "id": "1d9a2e9a-3f68-4628-9b35-7ad792e6b828",
   "metadata": {},
   "source": [
    "we can clearly see that thats not a case "
   ]
  },
  {
   "cell_type": "markdown",
   "id": "bbd2e9ba-d098-483a-8c36-089d09ec51cc",
   "metadata": {},
   "source": [
    "# Traffic Density on every hour of the week"
   ]
  },
  {
   "cell_type": "code",
   "execution_count": 83,
   "id": "6bb0926c-5488-4891-a092-543f6335c97a",
   "metadata": {},
   "outputs": [
    {
     "data": {
      "text/plain": [
       "array(['Sunday', 'Wednesday', 'Thursday', 'Saturday', 'Monday', 'Friday',\n",
       "       'Tuesday'], dtype=object)"
      ]
     },
     "execution_count": 83,
     "metadata": {},
     "output_type": "execute_result"
    }
   ],
   "source": [
    "dataset['Day Of Week'].unique()"
   ]
  },
  {
   "cell_type": "code",
   "execution_count": 95,
   "id": "9f057f1b-e463-4f65-84ee-f97d800af20b",
   "metadata": {},
   "outputs": [],
   "source": [
    "dataset['hour/day'] = dataset['Day Of Week'] + \" / \" + dataset['Hour Of Day'].astype(str)"
   ]
  },
  {
   "cell_type": "code",
   "execution_count": 99,
   "id": "450dbef7-3b53-44c4-a5f9-8e97a0f0bd99",
   "metadata": {},
   "outputs": [
    {
     "data": {
      "text/plain": [
       "hour/day\n",
       "Friday / 8        0.305019\n",
       "Wednesday / 8     0.297634\n",
       "Saturday / 12     0.297614\n",
       "Friday / 7        0.297477\n",
       "Monday / 7        0.293569\n",
       "                    ...   \n",
       "Thursday / 15     0.259880\n",
       "Tuesday / 13      0.259598\n",
       "Tuesday / 16      0.258205\n",
       "Tuesday / 15      0.257685\n",
       "Wednesday / 16    0.256271\n",
       "Name: Traffic Density, Length: 168, dtype: float64"
      ]
     },
     "execution_count": 99,
     "metadata": {},
     "output_type": "execute_result"
    }
   ],
   "source": [
    "every_hour_density = dataset.groupby('hour/day')['Traffic Density'].mean().sort_values(ascending=False)\n",
    "every_hour_density"
   ]
  },
  {
   "cell_type": "markdown",
   "id": "75d7ff74-bfce-49cb-9a59-646cc7696882",
   "metadata": {},
   "source": [
    "# Average speed of every vehicle type"
   ]
  },
  {
   "cell_type": "code",
   "execution_count": 102,
   "id": "57b5d444-d303-4588-b13d-5a47eab36282",
   "metadata": {},
   "outputs": [
    {
     "data": {
      "text/plain": [
       "Vehicle Type\n",
       "Autonomous Vehicle    59.964752\n",
       "Car                   59.852511\n",
       "Drone                 60.609965\n",
       "Flying Car            57.065397\n",
       "Name: Speed, dtype: float64"
      ]
     },
     "execution_count": 102,
     "metadata": {},
     "output_type": "execute_result"
    }
   ],
   "source": [
    "dataset.groupby('Vehicle Type')['Speed'].mean()"
   ]
  },
  {
   "cell_type": "markdown",
   "id": "d2eccf9f-d644-4354-aab2-c67a65a6243b",
   "metadata": {},
   "source": [
    "# Does a car consume more energy when moving faster?"
   ]
  },
  {
   "cell_type": "code",
   "execution_count": 106,
   "id": "a5700f77-c375-4571-b0d2-2391f816a65a",
   "metadata": {},
   "outputs": [
    {
     "data": {
      "text/plain": [
       "0.8402546249082197"
      ]
     },
     "execution_count": 106,
     "metadata": {},
     "output_type": "execute_result"
    }
   ],
   "source": [
    "dataset['Energy Consumption'].corr(dataset['Speed'])"
   ]
  },
  {
   "cell_type": "code",
   "execution_count": 112,
   "id": "7a002526-4f19-4601-acf7-9f50efbbf748",
   "metadata": {},
   "outputs": [],
   "source": [
    "energy_car=dataset.groupby('Speed')['Energy Consumption'].mean().sort_values(ascending=False).reset_index()"
   ]
  },
  {
   "cell_type": "code",
   "execution_count": 115,
   "id": "29c5c3ef-f518-41e5-bffe-e4286d079018",
   "metadata": {},
   "outputs": [
    {
     "data": {
      "text/plain": [
       "Text(0, 0.5, 'Energy Consumption')"
      ]
     },
     "execution_count": 115,
     "metadata": {},
     "output_type": "execute_result"
    },
    {
     "data": {
      "image/png": "[encoded data removed]",
      "text/plain": [
       "<Figure size 640x480 with 1 Axes>"
      ]
     },
     "metadata": {},
     "output_type": "display_data"
    }
   ],
   "source": [
    "plt.scatter(x='Speed',y='Energy Consumption',data=energy_car)\n",
    "plt.xlabel(xlabel='The speed of the car')\n",
    "plt.ylabel(ylabel='Energy Consumption')"
   ]
  },
  {
   "cell_type": "code",
   "execution_count": null,
   "id": "fa59d95f-14f6-4561-8843-cba0a23f7902",
   "metadata": {},
   "outputs": [],
   "source": []
  }
 ],
 "metadata": {
  "kernelspec": {
   "display_name": "Python 3 (ipykernel)",
   "language": "python",
   "name": "python3"
  },
  "language_info": {
   "codemirror_mode": {
    "name": "ipython",
    "version": 3
   },
   "file_extension": ".py",
   "mimetype": "text/x-python",
   "name": "python",
   "nbconvert_exporter": "python",
   "pygments_lexer": "ipython3",
   "version": "3.10.4"
  }
 },
 "nbformat": 4,
 "nbformat_minor": 5
}
