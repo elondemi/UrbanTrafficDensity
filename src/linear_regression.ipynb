{
 "cells": [
  {
   "cell_type": "code",
   "execution_count": 1,
   "id": "46fe1f59-d02e-4cc3-b04f-99ce289dd612",
   "metadata": {},
   "outputs": [
    {
     "name": "stdout",
     "output_type": "stream",
     "text": [
      "Linear Regression - Traffic Density Prediction:\n",
      "MAE: 0.07006834917513394\n",
      "MSE: 0.006867623076155568\n",
      "R-squared: -4.503843309255906e-05\n"
     ]
    }
   ],
   "source": [
    "from sklearn.linear_model import LinearRegression\n",
    "from sklearn.metrics import mean_absolute_error, mean_squared_error, r2_score\n",
    "\n",
    "import pandas as pd\n",
    "from sklearn.model_selection import train_test_split\n",
    "from sklearn.preprocessing import StandardScaler, LabelEncoder\n",
    "\n",
    "df = pd.read_csv('cleaned_sample.csv')\n",
    "\n",
    "df.fillna(df.mean(numeric_only=True), inplace=True)\n",
    "\n",
    "# Encode categorical variables\n",
    "label_encoders = {}\n",
    "for column in df.select_dtypes(include=['object']).columns:\n",
    "    label_encoders[column] = LabelEncoder()\n",
    "    df[column] = label_encoders[column].fit_transform(df[column])\n",
    "\n",
    "# Feature scaling\n",
    "scaler = StandardScaler()\n",
    "features = df.drop(['Traffic Density'], axis=1)  # 'Traffic Density' is the target column\n",
    "target = df['Traffic Density']\n",
    "scaled_features = scaler.fit_transform(features)\n",
    "\n",
    "# Split the data into training and test sets\n",
    "X_train, X_test, y_train, y_test = train_test_split(scaled_features, target, test_size=0.2, random_state=42)\n",
    "\n",
    "# Initialize the Linear Regression model\n",
    "linear_regressor = LinearRegression()\n",
    "\n",
    "# Train the model\n",
    "linear_regressor.fit(X_train, y_train)\n",
    "predictions_linear = linear_regressor.predict(X_test)\n",
    "# Evaluate the model\n",
    "mae_linear = mean_absolute_error(y_test, predictions_linear)\n",
    "mse_linear = mean_squared_error(y_test, predictions_linear)\n",
    "r2_linear = r2_score(y_test, predictions_linear)\n",
    "\n",
    "# Print evaluation results\n",
    "print('Linear Regression - Traffic Density Prediction:')\n",
    "print(f'MAE: {mae_linear}')\n",
    "print(f'MSE: {mse_linear}')\n",
    "print(f'R-squared: {r2_linear}')\n"
   ]
  },
  {
   "cell_type": "code",
   "execution_count": null,
   "id": "c49f0abe-1846-4f01-b118-c0b9fd106bd4",
   "metadata": {},
   "outputs": [],
   "source": []
  }
 ],
 "metadata": {
  "kernelspec": {
   "display_name": "Python 3 (ipykernel)",
   "language": "python",
   "name": "python3"
  },
  "language_info": {
   "codemirror_mode": {
    "name": "ipython",
    "version": 3
   },
   "file_extension": ".py",
   "mimetype": "text/x-python",
   "name": "python",
   "nbconvert_exporter": "python",
   "pygments_lexer": "ipython3",
   "version": "3.10.4"
  }
 },
 "nbformat": 4,
 "nbformat_minor": 5
}
